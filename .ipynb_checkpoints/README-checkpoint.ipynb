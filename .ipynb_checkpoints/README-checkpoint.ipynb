{
 "cells": [
  {
   "cell_type": "markdown",
   "metadata": {},
   "source": [
    "# NBA Prediction Model"
   ]
  },
  {
   "cell_type": "markdown",
   "metadata": {},
   "source": [
    "Ripton Rosen"
   ]
  },
  {
   "cell_type": "markdown",
   "metadata": {},
   "source": [
    "# Description"
   ]
  },
  {
   "cell_type": "markdown",
   "metadata": {},
   "source": [
    "This project is based around the idea of creating a model that could somewhat accurately predict the outcome of NBA games using advanced analytics from [Basketball-Reference](https://www.basketball-reference.com/) and classification models. "
   ]
  },
  {
   "cell_type": "markdown",
   "metadata": {},
   "source": [
    "# Data"
   ]
  },
  {
   "cell_type": "markdown",
   "metadata": {},
   "source": [
    "I acquired my data by web-scraping from [Basketball-Reference](https://www.basketball-reference.com/).  I used the game logs from every team, dating back to the 2009-2010 season.  \n",
    "\n",
    "\n",
    "**Web scrape snippet**\n",
    "![web](images/webscrape.png)\n",
    "\n",
    "\n",
    "\n",
    "There are two separate pages of game logs: a basic game log, and an advanced game log.  I scraped the data from both.  Each team's game logs were combined into one dataframe that went game by game for each team and included their basic and advanced statistics.  \n",
    "\n",
    "\n",
    "**Basic statistics**\n",
    "![basic](images/basic_stats.png)\n",
    "**Advanced statistics**\n",
    "![adv_stats](images/adv_stats.png)"
   ]
  },
  {
   "cell_type": "markdown",
   "metadata": {},
   "source": [
    "# Data Cleaning"
   ]
  },
  {
   "cell_type": "markdown",
   "metadata": {},
   "source": [
    "Since the data was scraped from [Basketball-Reference](https://www.basketball-reference.com/), I had a decent amount of cleaning:  \n",
    "* Every 20 rows, there were two rows of empty values\n",
    "* Rename columns\n",
    "* The home/away column had to be changed into 1's and 0's\n",
    "* The win/loss column had to be changed into 1's and 0's\n",
    "* There were empty columns that had to be dropped\n",
    "* There had to be a delineation between each of the teams, so the suffixes of _A and _B were added\n",
    "* I needed to merge the dataframe onto itself in order to have both teams from one game log in the same row\n",
    "\n",
    "I began my process with both basic and advanced statistics, but ended up cutting out all basic statistics from my modeling because I understood that the advanced statistics would be better for predicting the outcomes of games. "
   ]
  },
  {
   "cell_type": "markdown",
   "metadata": {},
   "source": [
    "# Data Exploration"
   ]
  },
  {
   "cell_type": "markdown",
   "metadata": {},
   "source": [
    "The first set of data I explored was just a dataframe with one team's statistics from a box score in it.  After attempts at vanilla modeling the data, it became clear that there was an issue.  The scores kept coming up over 90% for accuracy (both test and train samples) and F1 for each of the vanilla classifiers I ran.  \n",
    "\n",
    "![one_team](images/one_team_results.png)\n",
    "\n",
    "Upon running a decision tree with a few parameters to check if my data was just severely over-fitting, I realized it wasn't and that there was something else wrong.  My assumption was that the data was running against itself, meaning that since there was only one team's statistics in the dataframe, it wasn't comparing numbers to something else.  So, I needed to add the second team in the box score to the dataframe.  I created a new dataframe that had both teams in a specific contest as part of it, which will be called Team A and Team B.  With both teams now part of the new dataframe, I redid my cleaning and started the process over.  I created a new covariance matrix to check out my features and forged ahead.  \n",
    "\n",
    "![cov](images/two_team_covariance.png)\n",
    "\n",
    "I ran the vanilla models again and noticed that I was getting similar scores to when I only had one team's statistics in the dataframe.\n",
    "\n",
    "![near](images/nearly_perfect.png)\n",
    "\n",
    "Obviously, something was still wrong.  I plotted out the feature importance and saw that Offensive Rating and Defensive rating were the only two metrics being taken into account by the model, and none of the other features had any say. \n",
    "\n",
    "![bad_features](images/btwo_team_features_with_ORtg.png)\n",
    "\n",
    "Going back into the dataframe, I looked at each of these metrics to see if there was something wrong with how I merged the dataframes or how I scraped the data from [Basketball-Reference](https://www.basketball-reference.com/).  I then noticed that the Offensive Rating for Team A is the Defensive Rating for Team B. The two statistics are just the inverse of each other.\n",
    "\n",
    "Here is an example of the advanced box scores from a Philadelphia 76ers vs. Washington Wizards game on 12/23/2020:\n",
    "![phi](images/phi_gamelog_upd.png)\n",
    "![wiz](images/wiz_gamelog_upd.png)\n",
    "\n",
    "We see that the ORtg and DRtg are just the inverse of each other.  This caused the data to rely heavily on these two statistics.\n",
    "\n",
    "\n",
    "The solution to this issue, was to drop the ORtg and DRtg from the splits, so that the model wouldn't rely so heavily on those metrics.  This dealt a major blow to the project and my modeling, but was the only solution given the time restraints.  A new solution for this issue will be outlined in the conclusion.  \n",
    "\n",
    "My feature importance and the vanilla classifier scores without ORtg and Drtg became as follows: \n",
    "![new_feats](images/Two_team_features_updated.png)\n",
    "\n",
    "![two_scores](images/two_team_updated_scores.png)\n",
    "\n",
    "Given the new features, I decided to still try and run some models despite the two metrics I had been counting on most to be the best predictors now out of the equation."
   ]
  },
  {
   "cell_type": "markdown",
   "metadata": {},
   "source": [
    "# Models"
   ]
  },
  {
   "cell_type": "markdown",
   "metadata": {},
   "source": [
    "I ran a \"for\" loop with:\n",
    "* Logistics Regression\n",
    "* Random Forest\n",
    "* XGBoost\n",
    "* KNN (K-Nearest Neighbors)\n",
    "* Decision Tree\n",
    "* SVM (Support Vector Machines)\n",
    "\n",
    "With the test results from my loop, I decided upon which models to run on their own, whether to scale data, and to check for the best parameters of. I decided to run KNN, Decision Tree, Random Forest and XGBoost models for the data. I then ran a Random Search for my best model, the XGBoost one, to come up with the best parameters for it.  \n",
    "\n",
    "![xgb](images/xgboost_best_model.png)"
   ]
  },
  {
   "cell_type": "markdown",
   "metadata": {},
   "source": [
    "# Interpretation"
   ]
  },
  {
   "cell_type": "markdown",
   "metadata": {},
   "source": [
    "I will take the interpretation of my results with a grain of salt, given having to drop two important features.  My results were very strong in both F1 and Accuracy for most models, and my XGBoost model with Random Search was was the best.  \n",
    "\n",
    "![full](images/full_results.png)\n",
    "\n",
    "Given that I am predicting basketball games, I would like to have a high accuracy score to see how well a model predicts both wins and losses correctly vs all predictions made.\n",
    "\n",
    "\n",
    "With Offensive and Defensive rating taken out as features, the Random Search XGBoost ranked these features as most important:\n",
    "![xgb_feats](images/xgboost_features.png)"
   ]
  },
  {
   "cell_type": "markdown",
   "metadata": {},
   "source": [
    "# Conclusion and Further Work"
   ]
  },
  {
   "cell_type": "markdown",
   "metadata": {},
   "source": [
    "Given the issues with the data, there would need to be changes made to how the data is used.  A way to combat the Offensive Rating and Defensive Rating, the two most encompassing statistics for team success, would be to aggregate them for each team month by month or in the last 10 games.  So, predict games based on the team's past month or past 10 games and have the model run that data against the results to see how accurately it can predict whether the outcome was a win or loss.  \n",
    "\n",
    "Future work for this project includes the aggregation of statistics into monthly ones to then predict outcomes.  Also, further work includes feeding in sports betting lines to see how accurately the model can predict against a point spread.  I would also like to use a Artificial Neural Network to help better predict the wins and losses of the updated model."
   ]
  }
 ],
 "metadata": {
  "kernelspec": {
   "display_name": "Python 3",
   "language": "python",
   "name": "python3"
  },
  "language_info": {
   "codemirror_mode": {
    "name": "ipython",
    "version": 3
   },
   "file_extension": ".py",
   "mimetype": "text/x-python",
   "name": "python",
   "nbconvert_exporter": "python",
   "pygments_lexer": "ipython3",
   "version": "3.8.5"
  },
  "toc": {
   "base_numbering": 1,
   "nav_menu": {},
   "number_sections": true,
   "sideBar": true,
   "skip_h1_title": false,
   "title_cell": "Table of Contents",
   "title_sidebar": "Contents",
   "toc_cell": false,
   "toc_position": {},
   "toc_section_display": true,
   "toc_window_display": false
  }
 },
 "nbformat": 4,
 "nbformat_minor": 4
}
